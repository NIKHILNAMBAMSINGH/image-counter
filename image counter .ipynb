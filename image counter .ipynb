{
 "cells": [
  {
   "cell_type": "code",
   "execution_count": 1,
   "id": "43a949a2",
   "metadata": {},
   "outputs": [],
   "source": [
    "import os\n",
    "import numpy as np\n",
    "import matplotlib.pyplot as plt\n"
   ]
  },
  {
   "cell_type": "code",
   "execution_count": 18,
   "id": "cdfc7f5c",
   "metadata": {},
   "outputs": [
    {
     "name": "stdout",
     "output_type": "stream",
     "text": [
      "total no training of glioma tumor: 826\n",
      "total no training of meningioma tumor: 822\n",
      "total no training of no tumor: 395\n",
      "total no training of pituitary tumor: 827\n",
      "total training images 2870\n",
      "total no of testing glioma tumor: 100\n",
      "total no of testing meningioma tumor: 115\n",
      "total no of testing no tumor: 105\n",
      "total no of testing pituitary tumor: 74\n",
      "total testing images 394\n"
     ]
    }
   ],
   "source": [
    "a = len(os.listdir('D:/data/Python/tumor classification/Training/glioma_tumor/'))\n",
    "b= len(os.listdir('D:/data/Python/tumor classification/Training/meningioma_tumor/'))\n",
    "c= len(os.listdir('D:/data/Python/tumor classification/Training/no_tumor/'))\n",
    "d = len(os.listdir('D:/data/Python/tumor classification/Training/pituitary_tumor/'))\n",
    "print(\"total no training of glioma tumor:\",a)\n",
    "print(\"total no training of meningioma tumor:\",b)\n",
    "print(\"total no training of no tumor:\",c)\n",
    "print(\"total no training of pituitary tumor:\",d)\n",
    "total_training=a+b+c+d\n",
    "print(\"total training images\",total_training)\n",
    "a_ = len(os.listdir('D:/Testing/glioma_tumor'))\n",
    "b_= len(os.listdir('D:/Testing/meningioma_tumor/'))\n",
    "c_= len(os.listdir('D:/Testing/no_tumor/'))\n",
    "d_ = len(os.listdir('D:/Testing/pituitary_tumor/'))\n",
    "print(\"total no of testing glioma tumor:\",a_)\n",
    "print(\"total no of testing meningioma tumor:\",b_)\n",
    "print(\"total no of testing no tumor:\",c_)\n",
    "print(\"total no of testing pituitary tumor:\",d_)\n",
    "total__training=a_+b_+c_+d_\n",
    "print(\"total testing images\",total__training)"
   ]
  },
  {
   "cell_type": "code",
   "execution_count": null,
   "id": "35e9ba99",
   "metadata": {},
   "outputs": [],
   "source": []
  }
 ],
 "metadata": {
  "kernelspec": {
   "display_name": "Python 3 (ipykernel)",
   "language": "python",
   "name": "python3"
  },
  "language_info": {
   "codemirror_mode": {
    "name": "ipython",
    "version": 3
   },
   "file_extension": ".py",
   "mimetype": "text/x-python",
   "name": "python",
   "nbconvert_exporter": "python",
   "pygments_lexer": "ipython3",
   "version": "3.9.7"
  }
 },
 "nbformat": 4,
 "nbformat_minor": 5
}
